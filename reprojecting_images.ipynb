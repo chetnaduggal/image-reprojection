{
 "cells": [
  {
   "cell_type": "code",
   "execution_count": 1,
   "metadata": {},
   "outputs": [],
   "source": [
    "import matplotlib.pyplot as plt\n",
    "import matplotlib.patches as patches\n",
    "from scipy.ndimage.filters import gaussian_filter\n",
    "from pylab import rcParams\n",
    "from astropy.wcs import WCS\n",
    "from astropy.io import fits\n",
    "from astropy.utils.data import get_pkg_data_filename\n",
    "from astropy import units as u"
   ]
  },
  {
   "cell_type": "code",
   "execution_count": 3,
   "metadata": {},
   "outputs": [
    {
     "name": "stdout",
     "output_type": "stream",
     "text": [
      "WCS Keywords\n",
      "\n",
      "Number of WCS axes: 2\n",
      "CTYPE : 'RA---TAN'  'DEC--TAN'  \n",
      "CRVAL : 157.1988822958352  38.76579334032697  \n",
      "CRPIX : 1832.41104479879  1871.67129763402  \n",
      "CD1_1 CD1_2  : -3.8412689228348e-06  1.0425998426334e-05  \n",
      "CD2_1 CD2_2  : 1.0425998426334e-05  3.84126892283488e-06  \n",
      "NAXIS : 563  459 (459, 563)\n"
     ]
    }
   ],
   "source": [
    "filename = get_pkg_data_filename('/Users/orion/phd_research/hst/cropped_drc/1025+390_f336w_new.fits')\n",
    "\n",
    "hdu = fits.open(filename)[0]\n",
    "wcs = WCS(hdu.header)\n",
    "\n",
    "filename2 = get_pkg_data_filename('/Users/orion/phd_research/hst/cropped_drc/1025+390_f763m_new.fits')\n",
    "wcs2 = WCS(hdu2.header)"
   ]
  },
  {
   "cell_type": "code",
   "execution_count": null,
   "metadata": {},
   "outputs": [],
   "source": [
    "# original image- shows titled ticks/grid"
   ]
  },
  {
   "cell_type": "code",
   "execution_count": 90,
   "metadata": {},
   "outputs": [
    {
     "data": {
      "text/plain": [
       "<matplotlib.colorbar.Colorbar at 0x7fb285c5edd0>"
      ]
     },
     "execution_count": 90,
     "metadata": {},
     "output_type": "execute_result"
    },
    {
     "data": {
      "image/png": "[encoded data removed]",
      "text/plain": [
       "<Figure size 432x288 with 2 Axes>"
      ]
     },
     "metadata": {
      "needs_background": "light"
     },
     "output_type": "display_data"
    }
   ],
   "source": [
    "fig = plt.figure()\n",
    "ax = fig.add_subplot(111, projection=wcs)\n",
    "\n",
    "\n",
    "hdu.data = gaussian_filter(hdu.data, 1.0)\n",
    "im = ax.imshow(hdu.data, vmin=0.004, vmax=0.018, origin='lower', cmap= 'gist_heat_r', interpolation='none') \n",
    "                                                                #interpolation='gaussian', cmap='binary,magma'\n",
    "\n",
    "lon = ax.coords[0]\n",
    "lat = ax.coords[1]\n",
    "#plt.style.use('classic')\n",
    "ax.set_xlabel('Right Ascension')\n",
    "ax.set_ylabel('Declination')\n",
    "ax.set_xlim(200, hdu.data.shape[1] - 180)\n",
    "ax.set_ylim(150, hdu.data.shape[0] - 150)\n",
    "ax.grid(True)\n",
    "\n",
    "fig.colorbar(im, ax=ax)\n"
   ]
  },
  {
   "cell_type": "code",
   "execution_count": null,
   "metadata": {},
   "outputs": [],
   "source": []
  },
  {
   "cell_type": "code",
   "execution_count": 4,
   "metadata": {},
   "outputs": [
    {
     "data": {
      "text/plain": [
       "WCSAXES =                    2 / Number of coordinate axes                      \n",
       "CRPIX1  =      1832.4110447988 / Pixel coordinate of reference point            \n",
       "CRPIX2  =       1871.671297634 / Pixel coordinate of reference point            \n",
       "PC1_1   = -3.8412689228348E-06 / Coordinate transformation matrix element       \n",
       "PC1_2   =  1.0425998426334E-05 / Coordinate transformation matrix element       \n",
       "PC2_1   =  1.0425998426334E-05 / Coordinate transformation matrix element       \n",
       "PC2_2   =  3.8412689228349E-06 / Coordinate transformation matrix element       \n",
       "CDELT1  =                  1.0 / [deg] Coordinate increment at reference point  \n",
       "CDELT2  =                  1.0 / [deg] Coordinate increment at reference point  \n",
       "CUNIT1  = 'deg'                / Units of coordinate increment and value        \n",
       "CUNIT2  = 'deg'                / Units of coordinate increment and value        \n",
       "CTYPE1  = 'RA---TAN'           / Right ascension, gnomonic projection           \n",
       "CTYPE2  = 'DEC--TAN'           / Declination, gnomonic projection               \n",
       "CRVAL1  =      157.19888229584 / [deg] Coordinate value at reference point      \n",
       "CRVAL2  =      38.765793340327 / [deg] Coordinate value at reference point      \n",
       "LONPOLE =                180.0 / [deg] Native longitude of celestial pole       \n",
       "LATPOLE =      38.765793340327 / [deg] Native latitude of celestial pole        \n",
       "WCSNAME = 'DRZWCS'             / Coordinate system title                        \n",
       "MJDREF  =                  0.0 / [d] MJD of fiducial time                       \n",
       "DATE-OBS= '2018-02-12'         / ISO-8601 time of observation                   \n",
       "MJD-OBS =              58161.0 / [d] MJD of observation                         \n",
       "RADESYS = 'ICRS'               / Equatorial coordinate system                   "
      ]
     },
     "execution_count": 4,
     "metadata": {},
     "output_type": "execute_result"
    }
   ],
   "source": [
    "wcs.to_header()"
   ]
  },
  {
   "cell_type": "code",
   "execution_count": 6,
   "metadata": {},
   "outputs": [
    {
     "data": {
      "text/plain": [
       "WCSAXES =                    2 / Number of coordinate axes                      \n",
       "CRPIX1  =      1737.9157947879 / Pixel coordinate of reference point            \n",
       "CRPIX2  =       1826.671297634 / Pixel coordinate of reference point            \n",
       "PC1_1   = -3.8412689228363E-06 / Coordinate transformation matrix element       \n",
       "PC1_2   =  1.0425998426333E-05 / Coordinate transformation matrix element       \n",
       "PC2_1   =  1.0425998426333E-05 / Coordinate transformation matrix element       \n",
       "PC2_2   =  3.8412689228363E-06 / Coordinate transformation matrix element       \n",
       "CDELT1  =                  1.0 / [deg] Coordinate increment at reference point  \n",
       "CDELT2  =                  1.0 / [deg] Coordinate increment at reference point  \n",
       "CUNIT1  = 'deg'                / Units of coordinate increment and value        \n",
       "CUNIT2  = 'deg'                / Units of coordinate increment and value        \n",
       "CTYPE1  = 'RA---TAN'           / Right ascension, gnomonic projection           \n",
       "CTYPE2  = 'DEC--TAN'           / Declination, gnomonic projection               \n",
       "CRVAL1  =      157.19888558236 / [deg] Coordinate value at reference point      \n",
       "CRVAL2  =       38.76578654594 / [deg] Coordinate value at reference point      \n",
       "LONPOLE =                180.0 / [deg] Native longitude of celestial pole       \n",
       "LATPOLE =       38.76578654594 / [deg] Native latitude of celestial pole        \n",
       "CRDER1  =  1.6998096441512E-06 / [deg] Random error in coordinate               \n",
       "CRDER2  =  3.6105865817149E-06 / [deg] Random error in coordinate               \n",
       "WCSNAME = 'DRZWCS'             / Coordinate system title                        \n",
       "MJDREF  =                  0.0 / [d] MJD of fiducial time                       \n",
       "DATE-OBS= '2018-02-12'         / ISO-8601 time of observation                   \n",
       "MJD-OBS =              58161.0 / [d] MJD of observation                         \n",
       "RADESYS = 'ICRS'               / Equatorial coordinate system                   "
      ]
     },
     "execution_count": 6,
     "metadata": {},
     "output_type": "execute_result"
    }
   ],
   "source": [
    "wcs2.to_header()"
   ]
  },
  {
   "cell_type": "code",
   "execution_count": null,
   "metadata": {},
   "outputs": [],
   "source": []
  },
  {
   "cell_type": "code",
   "execution_count": null,
   "metadata": {},
   "outputs": [],
   "source": [
    "# reprojecting image onto a new \"straightened\" WCS grid "
   ]
  },
  {
   "cell_type": "code",
   "execution_count": 12,
   "metadata": {},
   "outputs": [],
   "source": [
    "from reproject.mosaicking import find_optimal_celestial_wcs\n",
    "\n",
    "hdu_temp = fits.open(filename)\n",
    "wcs_out, shape_out = find_optimal_celestial_wcs(hdu_temp)"
   ]
  },
  {
   "cell_type": "code",
   "execution_count": 13,
   "metadata": {},
   "outputs": [
    {
     "data": {
      "text/plain": [
       "WCSAXES =                    2 / Number of coordinate axes                      \n",
       "CRPIX1  =     -691.27894849475 / Pixel coordinate of reference point            \n",
       "CRPIX2  =      2366.3456442632 / Pixel coordinate of reference point            \n",
       "CDELT1  = -1.1111111111111E-05 / [deg] Coordinate increment at reference point  \n",
       "CDELT2  =  1.1111111111111E-05 / [deg] Coordinate increment at reference point  \n",
       "CUNIT1  = 'deg'                / Units of coordinate increment and value        \n",
       "CUNIT2  = 'deg'                / Units of coordinate increment and value        \n",
       "CTYPE1  = 'RA---TAN'           / Right ascension, gnomonic projection           \n",
       "CTYPE2  = 'DEC--TAN'           / Declination, gnomonic projection               \n",
       "CRVAL1  =      157.19888229584 / [deg] Coordinate value at reference point      \n",
       "CRVAL2  =      38.765793340327 / [deg] Coordinate value at reference point      \n",
       "LONPOLE =                180.0 / [deg] Native longitude of celestial pole       \n",
       "LATPOLE =      38.765793340327 / [deg] Native latitude of celestial pole        \n",
       "MJDREF  =                  0.0 / [d] MJD of fiducial time                       \n",
       "RADESYS = 'ICRS'               / Equatorial coordinate system                   "
      ]
     },
     "execution_count": 13,
     "metadata": {},
     "output_type": "execute_result"
    }
   ],
   "source": [
    "wcs_out.to_header()"
   ]
  },
  {
   "cell_type": "code",
   "execution_count": 14,
   "metadata": {},
   "outputs": [
    {
     "data": {
      "text/plain": [
       "(687, 625)"
      ]
     },
     "execution_count": 14,
     "metadata": {},
     "output_type": "execute_result"
    }
   ],
   "source": [
    "shape_out"
   ]
  },
  {
   "cell_type": "code",
   "execution_count": 76,
   "metadata": {},
   "outputs": [
    {
     "data": {
      "text/plain": [
       "<matplotlib.colorbar.Colorbar at 0x7fb29f8da8d0>"
      ]
     },
     "execution_count": 76,
     "metadata": {},
     "output_type": "execute_result"
    },
    {
     "data": {
      "image/png": "[encoded data removed]",
      "text/plain": [
       "<Figure size 432x288 with 2 Axes>"
      ]
     },
     "metadata": {
      "needs_background": "light"
     },
     "output_type": "display_data"
    }
   ],
   "source": [
    "fig = plt.figure()\n",
    "ax = fig.add_subplot(111, projection=wcs_out)\n",
    "\n",
    "hdu_temp[0].data = gaussian_filter(hdu_temp[0].data, 1.0)\n",
    "im_new = ax.imshow(hdu_temp[0].data, vmin=0.004, vmax=0.018, origin='lower', cmap= 'gist_heat_r', interpolation='none') \n",
    "                                                               \n",
    "lon = ax.coords[0]\n",
    "lat = ax.coords[1]\n",
    "ax.set_xlabel('Right Ascension')\n",
    "ax.set_ylabel('Declination')\n",
    "ax.set_xlim(200, hdu_temp[0].data.shape[1] - 180)\n",
    "ax.set_ylim(150, hdu_temp[0].data.shape[0] - 150)\n",
    "ax.grid()\n",
    "fig.colorbar(im_new, ax=ax)\n"
   ]
  },
  {
   "cell_type": "code",
   "execution_count": null,
   "metadata": {},
   "outputs": [],
   "source": []
  },
  {
   "cell_type": "code",
   "execution_count": null,
   "metadata": {},
   "outputs": [],
   "source": [
    "#      ************************     North-up alignment     ************************"
   ]
  },
  {
   "cell_type": "code",
   "execution_count": 64,
   "metadata": {},
   "outputs": [],
   "source": [
    "import montage_wrapper as montage\n",
    "\n",
    "# no use without reproject's WCS manipulation - ends up simply rotating image with old grid"
   ]
  },
  {
   "cell_type": "code",
   "execution_count": 65,
   "metadata": {},
   "outputs": [
    {
     "name": "stdout",
     "output_type": "stream",
     "text": [
      "INFO: Deleting work directory /var/folders/nd/5w_l4vtx1c1g08hm82zlp6p40000gn/T/tmprsnehnqe [montage_wrapper.wrappers]\n"
     ]
    },
    {
     "data": {
      "text/plain": [
       "<matplotlib.colorbar.Colorbar at 0x7fb29fb6fa10>"
      ]
     },
     "execution_count": 65,
     "metadata": {},
     "output_type": "execute_result"
    },
    {
     "data": {
      "image/png": "[encoded data removed]",
      "text/plain": [
       "<Figure size 432x288 with 2 Axes>"
      ]
     },
     "metadata": {
      "needs_background": "light"
     },
     "output_type": "display_data"
    }
   ],
   "source": [
    "fig = plt.figure()\n",
    "#ax = fig.add_subplot(111, projection=wcs)\n",
    "ax = fig.add_subplot(111, projection=wcs_out)\n",
    "\n",
    "hdu = montage.reproject_hdu(hdu, north_aligned=True) \n",
    "hdu.data = gaussian_filter(hdu.data, 1.0)\n",
    "im_new2 = ax.imshow(hdu.data, vmin=0.004, vmax=0.018, origin='lower', cmap= 'gist_heat_r', interpolation='none') \n",
    "                                                                #interpolation='gaussian', cmap='binary,magma'\n",
    "\n",
    "lon = ax.coords[0]\n",
    "lat = ax.coords[1]\n",
    "ax.set_xlabel('Right Ascension')\n",
    "ax.set_ylabel('Declination')\n",
    "ax.set_xlim(200, hdu.data.shape[1] - 180)\n",
    "ax.set_ylim(220, hdu.data.shape[0] - 200)\n",
    "\n",
    "fig.colorbar(im_new2, ax=ax)\n"
   ]
  },
  {
   "cell_type": "code",
   "execution_count": null,
   "metadata": {},
   "outputs": [],
   "source": []
  },
  {
   "cell_type": "code",
   "execution_count": null,
   "metadata": {},
   "outputs": [],
   "source": [
    "#  plotting HST image with radio contours "
   ]
  },
  {
   "cell_type": "code",
   "execution_count": 7,
   "metadata": {},
   "outputs": [
    {
     "name": "stdout",
     "output_type": "stream",
     "text": [
      "[<astropy.io.fits.hdu.image.PrimaryHDU object at 0x7fb29ca77e90>, <astropy.io.fits.hdu.image.PrimaryHDU object at 0x7fb29caca990>]\n"
     ]
    }
   ],
   "source": [
    "from reproject.mosaicking import find_optimal_celestial_wcs\n",
    "import glob \n",
    "import os\n",
    "\n",
    "dirname = '/Users/orion/phd_research/hst/cropped_drc/'\n",
    "list_hdus =  [fits.open(filenames)[0] for filenames in glob.glob(os.path.join(dirname, '1025+390_*_new.fits'))]\n",
    "print (list_hdus)"
   ]
  },
  {
   "cell_type": "code",
   "execution_count": 8,
   "metadata": {},
   "outputs": [
    {
     "data": {
      "text/plain": [
       "WCSAXES =                    2 / Number of coordinate axes                      \n",
       "CRPIX1  =     -691.39430257878 / Pixel coordinate of reference point            \n",
       "CRPIX2  =      2366.0398766486 / Pixel coordinate of reference point            \n",
       "CDELT1  = -1.1111111111111E-05 / [deg] Coordinate increment at reference point  \n",
       "CDELT2  =  1.1111111111111E-05 / [deg] Coordinate increment at reference point  \n",
       "CUNIT1  = 'deg'                / Units of coordinate increment and value        \n",
       "CUNIT2  = 'deg'                / Units of coordinate increment and value        \n",
       "CTYPE1  = 'RA---TAN'           / Right ascension, gnomonic projection           \n",
       "CTYPE2  = 'DEC--TAN'           / Declination, gnomonic projection               \n",
       "CRVAL1  =       157.1988839391 / [deg] Coordinate value at reference point      \n",
       "CRVAL2  =      38.765789943134 / [deg] Coordinate value at reference point      \n",
       "LONPOLE =                180.0 / [deg] Native longitude of celestial pole       \n",
       "LATPOLE =      38.765789943134 / [deg] Native latitude of celestial pole        \n",
       "MJDREF  =                  0.0 / [d] MJD of fiducial time                       \n",
       "RADESYS = 'ICRS'               / Equatorial coordinate system                   "
      ]
     },
     "execution_count": 8,
     "metadata": {},
     "output_type": "execute_result"
    }
   ],
   "source": [
    "wcs_out0, shape_out2 = find_optimal_celestial_wcs(list_hdus)\n",
    "wcs_out0.to_header()"
   ]
  },
  {
   "cell_type": "code",
   "execution_count": 9,
   "metadata": {},
   "outputs": [
    {
     "data": {
      "text/plain": [
       "WCSAXES =                    2 / Number of coordinate axes                      \n",
       "CRPIX1  =     -691.39430257878 / Pixel coordinate of reference point            \n",
       "CRPIX2  =      2366.0398766486 / Pixel coordinate of reference point            \n",
       "CDELT1  = -1.1111111111111E-05 / [deg] Coordinate increment at reference point  \n",
       "CDELT2  =  1.1111111111111E-05 / [deg] Coordinate increment at reference point  \n",
       "CUNIT1  = 'deg'                / Units of coordinate increment and value        \n",
       "CUNIT2  = 'deg'                / Units of coordinate increment and value        \n",
       "CTYPE1  = 'RA---TAN'           / Right ascension, gnomonic projection           \n",
       "CTYPE2  = 'DEC--TAN'           / Declination, gnomonic projection               \n",
       "CRVAL1  =       157.1988839391 / [deg] Coordinate value at reference point      \n",
       "CRVAL2  =      38.765789943134 / [deg] Coordinate value at reference point      \n",
       "LONPOLE =                180.0 / [deg] Native longitude of celestial pole       \n",
       "LATPOLE =      38.765789943134 / [deg] Native latitude of celestial pole        \n",
       "MJDREF  =                  0.0 / [d] MJD of fiducial time                       \n",
       "RADESYS = 'ICRS'               / Equatorial coordinate system                   "
      ]
     },
     "execution_count": 9,
     "metadata": {},
     "output_type": "execute_result"
    }
   ],
   "source": [
    "hdu_temp3 = fits.open(filename)\n",
    "hdu_temp4 = fits.open(filename2)\n",
    "\n",
    "wcs_out3, shape_out3 = find_optimal_celestial_wcs([hdu_temp4,hdu_temp3])  #passing each file manually\n",
    "wcs_out3.to_header()"
   ]
  },
  {
   "cell_type": "code",
   "execution_count": 11,
   "metadata": {},
   "outputs": [
    {
     "data": {
      "text/plain": [
       "<matplotlib.colorbar.Colorbar at 0x7fb29d238f10>"
      ]
     },
     "execution_count": 11,
     "metadata": {},
     "output_type": "execute_result"
    },
    {
     "data": {
      "image/png": "[encoded data removed]",
      "text/plain": [
       "<Figure size 432x288 with 2 Axes>"
      ]
     },
     "metadata": {
      "needs_background": "light"
     },
     "output_type": "display_data"
    }
   ],
   "source": [
    "fig = plt.figure()\n",
    "ax = fig.add_subplot(111, projection=wcs_out3)\n",
    "\n",
    "hdu_temp3[0].data = gaussian_filter(hdu_temp3[0].data, 1.0)\n",
    "im_new = ax.imshow(hdu_temp3[0].data, vmin=0.004, vmax=0.018, origin='lower', cmap= 'gist_heat_r', interpolation='none') \n",
    "\n",
    "\n",
    "hdu_temp4[0].data = gaussian_filter(hdu_temp4[0].data, 1.0)\n",
    "ax.contour(hdu_temp4[0].data, transform=ax.get_transform(wcs_out3),levels=[0.02,0.045,0.06,0.11,0.14,0.17,0.2],\n",
    "                                                        colors='midnightblue', alpha=1.0, linewidths=0.7)\n",
    "\n",
    "lon = ax.coords[0]\n",
    "lat = ax.coords[1]\n",
    "ax.set_xlabel('Right Ascension')\n",
    "ax.set_ylabel('Declination')\n",
    "ax.set_xlim(200, hdu_temp3[0].data.shape[1] - 180)\n",
    "ax.set_ylim(150, hdu_temp3[0].data.shape[0] - 150)\n",
    "\n",
    "fig.colorbar(im_new, ax=ax)"
   ]
  },
  {
   "cell_type": "code",
   "execution_count": null,
   "metadata": {},
   "outputs": [],
   "source": []
  },
  {
   "cell_type": "code",
   "execution_count": 22,
   "metadata": {},
   "outputs": [],
   "source": [
    "filename = get_pkg_data_filename('/Users/orion/phd_research/hst/cropped_drc/1025+390_f336w_new.fits')\n",
    "filename2 = get_pkg_data_filename('/Users/orion/phd_research/hst/cropped_drc/1025+390_f763m_new.fits')\n",
    "\n",
    "\n",
    "hdu_336 = fits.open(filename)\n",
    "hdu_763 = fits.open(filename2)"
   ]
  },
  {
   "cell_type": "code",
   "execution_count": 61,
   "metadata": {},
   "outputs": [
    {
     "data": {
      "text/plain": [
       "WCSAXES =                    2 / Number of coordinate axes                      \n",
       "CRPIX1  =     -691.27894849475 / Pixel coordinate of reference point            \n",
       "CRPIX2  =      2366.3456442632 / Pixel coordinate of reference point            \n",
       "CDELT1  = -1.1111111111111E-05 / [deg] Coordinate increment at reference point  \n",
       "CDELT2  =  1.1111111111111E-05 / [deg] Coordinate increment at reference point  \n",
       "CUNIT1  = 'deg'                / Units of coordinate increment and value        \n",
       "CUNIT2  = 'deg'                / Units of coordinate increment and value        \n",
       "CTYPE1  = 'RA---TAN'           / Right ascension, gnomonic projection           \n",
       "CTYPE2  = 'DEC--TAN'           / Declination, gnomonic projection               \n",
       "CRVAL1  =      157.19888229584 / [deg] Coordinate value at reference point      \n",
       "CRVAL2  =      38.765793340327 / [deg] Coordinate value at reference point      \n",
       "LONPOLE =                180.0 / [deg] Native longitude of celestial pole       \n",
       "LATPOLE =      38.765793340327 / [deg] Native latitude of celestial pole        \n",
       "MJDREF  =                  0.0 / [d] MJD of fiducial time                       \n",
       "RADESYS = 'ICRS'               / Equatorial coordinate system                   "
      ]
     },
     "execution_count": 61,
     "metadata": {},
     "output_type": "execute_result"
    }
   ],
   "source": [
    "wcs_out336, shape_out336 = find_optimal_celestial_wcs(hdu_336)\n",
    "\n",
    "wcs_out336.to_header()"
   ]
  },
  {
   "cell_type": "code",
   "execution_count": 51,
   "metadata": {},
   "outputs": [
    {
     "data": {
      "text/plain": [
       "(687, 625)"
      ]
     },
     "execution_count": 51,
     "metadata": {},
     "output_type": "execute_result"
    }
   ],
   "source": [
    "shape_out336"
   ]
  },
  {
   "cell_type": "code",
   "execution_count": null,
   "metadata": {},
   "outputs": [],
   "source": [
    "new_header336 = wcs_out336.to_header()\n",
    "\n",
    "# write a new HDU file with hdu_336[0].data and \"new_header336\" as header => new_header_hdu336"
   ]
  },
  {
   "cell_type": "code",
   "execution_count": 82,
   "metadata": {},
   "outputs": [],
   "source": [
    "hdu_336_temp = fits.open(filename)[0]\n",
    "hdu_763_temp = fits.open(filename2)[0]\n",
    "\n",
    "#hdu_763_temp.header"
   ]
  },
  {
   "cell_type": "code",
   "execution_count": 80,
   "metadata": {},
   "outputs": [],
   "source": [
    "from reproject import reproject_interp\n",
    "\n",
    "#registered_763_data, registered_763_footprint = reproject_interp(hdu_763_temp, new_header336_hdu[0].header)\n",
    "registered_763_data, registered_763_footprint = reproject_interp(hdu_763_temp, wcs_out336,(687, 625))"
   ]
  },
  {
   "cell_type": "code",
   "execution_count": 63,
   "metadata": {},
   "outputs": [
    {
     "data": {
      "text/plain": [
       "<matplotlib.image.AxesImage at 0x7fb29e8bec50>"
      ]
     },
     "execution_count": 63,
     "metadata": {},
     "output_type": "execute_result"
    },
    {
     "data": {
      "image/png": "[encoded data removed]",
      "text/plain": [
       "<Figure size 432x288 with 1 Axes>"
      ]
     },
     "metadata": {
      "needs_background": "light"
     },
     "output_type": "display_data"
    }
   ],
   "source": [
    "fig = plt.figure()\n",
    "ax = fig.add_subplot(111, projection=wcs_out336)\n",
    "\n",
    "ax.imshow(registered_763_data, origin='lower', vmin=0.003, vmax=0.06)"
   ]
  },
  {
   "cell_type": "code",
   "execution_count": 84,
   "metadata": {},
   "outputs": [],
   "source": [
    "registered_336_data, registered_336_footprint = reproject_interp(hdu_336_temp, wcs_out336,(687, 625))"
   ]
  },
  {
   "cell_type": "code",
   "execution_count": 85,
   "metadata": {},
   "outputs": [
    {
     "data": {
      "text/plain": [
       "<matplotlib.image.AxesImage at 0x7fb2a285ce50>"
      ]
     },
     "execution_count": 85,
     "metadata": {},
     "output_type": "execute_result"
    },
    {
     "data": {
      "image/png": "[encoded data removed]",
      "text/plain": [
       "<Figure size 432x288 with 1 Axes>"
      ]
     },
     "metadata": {
      "needs_background": "light"
     },
     "output_type": "display_data"
    }
   ],
   "source": [
    "fig = plt.figure()\n",
    "ax = fig.add_subplot(111, projection=wcs_out336)\n",
    "\n",
    "ax.imshow(registered_336_data, origin='lower', vmin=0.003, vmax=0.06)"
   ]
  },
  {
   "cell_type": "code",
   "execution_count": null,
   "metadata": {},
   "outputs": [],
   "source": []
  },
  {
   "cell_type": "code",
   "execution_count": null,
   "metadata": {},
   "outputs": [],
   "source": [
    "#     ************    Automatic North-up alignment with reproject (no need for montage)   ***********"
   ]
  },
  {
   "cell_type": "code",
   "execution_count": 87,
   "metadata": {},
   "outputs": [
    {
     "data": {
      "text/plain": [
       "<matplotlib.colorbar.Colorbar at 0x7fb286121750>"
      ]
     },
     "execution_count": 87,
     "metadata": {},
     "output_type": "execute_result"
    },
    {
     "data": {
      "image/png": "[encoded data removed]",
      "text/plain": [
       "<Figure size 432x288 with 2 Axes>"
      ]
     },
     "metadata": {
      "needs_background": "light"
     },
     "output_type": "display_data"
    }
   ],
   "source": [
    "fig = plt.figure()\n",
    "ax = fig.add_subplot(111, projection=wcs_out336)\n",
    "\n",
    "registered_336_data = gaussian_filter(registered_336_data, 1.0)\n",
    "im_new = ax.imshow(registered_336_data, vmin=0.004, vmax=0.018, origin='lower', cmap= 'gist_heat_r', interpolation='none') \n",
    "\n",
    "registered_763_data = gaussian_filter(registered_763_data, 1.0)\n",
    "ax.contour(registered_763_data, transform=ax.get_transform(wcs_out336),levels=[0.02,0.045,0.06,0.11,0.14,0.17,0.2],\n",
    "                                                        colors='midnightblue', alpha=1.0, linewidths=0.7)\n",
    "\n",
    "lon = ax.coords[0]\n",
    "lat = ax.coords[1]\n",
    "ax.set_xlabel('Right Ascension')\n",
    "ax.set_ylabel('Declination')\n",
    "ax.set_xlim(200, hdu_336_temp.data.shape[1] - 180)\n",
    "ax.set_ylim(220, hdu_336_temp.data.shape[0] - 220)\n",
    "\n",
    "fig.colorbar(im_new, ax=ax)"
   ]
  },
  {
   "cell_type": "code",
   "execution_count": null,
   "metadata": {},
   "outputs": [],
   "source": []
  }
 ],
 "metadata": {
  "kernelspec": {
   "display_name": "Python 3 (ipykernel)",
   "language": "python",
   "name": "python3"
  },
  "language_info": {
   "codemirror_mode": {
    "name": "ipython",
    "version": 3
   },
   "file_extension": ".py",
   "mimetype": "text/x-python",
   "name": "python",
   "nbconvert_exporter": "python",
   "pygments_lexer": "ipython3",
   "version": "3.7.16"
  }
 },
 "nbformat": 4,
 "nbformat_minor": 4
}
